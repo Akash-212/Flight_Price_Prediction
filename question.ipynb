{
 "cells": [
  {
   "cell_type": "code",
   "execution_count": 17,
   "metadata": {},
   "outputs": [
    {
     "name": "stdout",
     "output_type": "stream",
     "text": [
      "[12, 23, 34, 45]\n",
      "[23, 34, 45]\n"
     ]
    }
   ],
   "source": [
    "#Q1\n",
    "l1=[12,23]\n",
    "l2=[34,45]\n",
    "l3=l1+l2\n",
    "print(l3)\n",
    "#l3=[0 if x<20 else x for x in l3 ]\n",
    "l3=[x for x in l3 if x>20]\n",
    "print(l3)"
   ]
  },
  {
   "cell_type": "code",
   "execution_count": 20,
   "metadata": {},
   "outputs": [
    {
     "name": "stdout",
     "output_type": "stream",
     "text": [
      "[12, 23, 34, 45]\n",
      "[23, 34, 45]\n"
     ]
    },
    {
     "ename": "TypeError",
     "evalue": "'int' object is not callable",
     "output_type": "error",
     "traceback": [
      "\u001b[1;31m---------------------------------------------------------------------------\u001b[0m",
      "\u001b[1;31mTypeError\u001b[0m                                 Traceback (most recent call last)",
      "\u001b[1;32mc:\\Users\\pradh\\OneDrive\\Desktop\\Python\\question.ipynb Cell 2\u001b[0m line \u001b[0;36m1\n\u001b[0;32m      <a href='vscode-notebook-cell:/c%3A/Users/pradh/OneDrive/Desktop/Python/question.ipynb#W1sZmlsZQ%3D%3D?line=6'>7</a>\u001b[0m \u001b[39mprint\u001b[39m(l3)\n\u001b[0;32m      <a href='vscode-notebook-cell:/c%3A/Users/pradh/OneDrive/Desktop/Python/question.ipynb#W1sZmlsZQ%3D%3D?line=8'>9</a>\u001b[0m \u001b[39m# Use a different variable name for the sum calculation\u001b[39;00m\n\u001b[1;32m---> <a href='vscode-notebook-cell:/c%3A/Users/pradh/OneDrive/Desktop/Python/question.ipynb#W1sZmlsZQ%3D%3D?line=9'>10</a>\u001b[0m sum_of_elements \u001b[39m=\u001b[39m \u001b[39msum\u001b[39;49m(l3)\n\u001b[0;32m     <a href='vscode-notebook-cell:/c%3A/Users/pradh/OneDrive/Desktop/Python/question.ipynb#W1sZmlsZQ%3D%3D?line=10'>11</a>\u001b[0m avr \u001b[39m=\u001b[39m sum_of_elements \u001b[39m/\u001b[39m \u001b[39mlen\u001b[39m(l3)\n\u001b[0;32m     <a href='vscode-notebook-cell:/c%3A/Users/pradh/OneDrive/Desktop/Python/question.ipynb#W1sZmlsZQ%3D%3D?line=11'>12</a>\u001b[0m \u001b[39mprint\u001b[39m(\u001b[39mf\u001b[39m\u001b[39m\"\u001b[39m\u001b[39mSum = \u001b[39m\u001b[39m{\u001b[39;00msum_of_elements\u001b[39m}\u001b[39;00m\u001b[39m, Average = \u001b[39m\u001b[39m{\u001b[39;00mavr\u001b[39m}\u001b[39;00m\u001b[39m\"\u001b[39m)\n",
      "\u001b[1;31mTypeError\u001b[0m: 'int' object is not callable"
     ]
    }
   ],
   "source": [
    "l1 = [12, 23]\n",
    "l2 = [34, 45]\n",
    "l3 = l1 + l2\n",
    "print(l3)\n",
    "\n",
    "l3 = [x for x in l3 if x > 20]\n",
    "print(l3)\n",
    "\n",
    "# Use a different variable name for the sum calculation\n",
    "sum_of_elements = sum(l3)\n",
    "avr = sum_of_elements / len(l3)\n",
    "print(f\"Sum = {sum_of_elements}, Average = {avr}\")\n"
   ]
  },
  {
   "cell_type": "code",
   "execution_count": 22,
   "metadata": {},
   "outputs": [
    {
     "name": "stdout",
     "output_type": "stream",
     "text": [
      "{2: 'Akash', 1: 'pradhan', 3: 'biky'}\n",
      "{2: 'Akash', 1: 'akash', 3: 'biky'}\n",
      "{1: 'akash', 2: 'Akash', 3: 'biky'}\n"
     ]
    }
   ],
   "source": [
    "#Q2\n",
    "d={2:'Akash',1:'pradhan',3:'biky'}\n",
    "print(d)\n",
    "d[1]='akash'\n",
    "print(d)\n",
    "d=dict(sorted(d.items()))\n",
    "print(d)"
   ]
  },
  {
   "cell_type": "code",
   "execution_count": 23,
   "metadata": {},
   "outputs": [
    {
     "name": "stdout",
     "output_type": "stream",
     "text": [
      "Student Name: Alice\n",
      "Student Age: 20\n",
      "Student Grades: [90, 85, 92]\n",
      "\n",
      "Updated Student Information:\n",
      "Student Name: Bob\n",
      "Student Age: 21\n",
      "Student Grades: [88, 90, 95]\n"
     ]
    }
   ],
   "source": [
    "#Q3\n",
    "class Student:\n",
    "    def __init__(self, name, age, grades):\n",
    "        self.__name = name   # __name is a convention indicating it's a private attribute\n",
    "        self.__age = age\n",
    "        self.__grades = grades\n",
    "\n",
    "    # Getter methods\n",
    "    def get_name(self):\n",
    "        return self.__name\n",
    "\n",
    "    def get_age(self):\n",
    "        return self.__age\n",
    "\n",
    "    def get_grades(self):\n",
    "        return self.__grades\n",
    "\n",
    "    # Setter methods\n",
    "    def set_name(self, name):\n",
    "        self.__name = name\n",
    "\n",
    "    def set_age(self, age):\n",
    "        self.__age = age\n",
    "\n",
    "    def set_grades(self, grades):\n",
    "        self.__grades = grades\n",
    "\n",
    "\n",
    "# Example usage\n",
    "student1 = Student(name=\"Alice\", age=20, grades=[90, 85, 92])\n",
    "\n",
    "# Attempting to access private attributes directly will raise an AttributeError\n",
    "# print(student1.__name)  # Uncommenting this line will raise an AttributeError\n",
    "\n",
    "# Get and display student information\n",
    "print(\"Student Name:\", student1.get_name())\n",
    "print(\"Student Age:\", student1.get_age())\n",
    "print(\"Student Grades:\", student1.get_grades())\n",
    "\n",
    "# Update student information\n",
    "student1.set_name(\"Bob\")\n",
    "student1.set_age(21)\n",
    "student1.set_grades([88, 90, 95])\n",
    "\n",
    "# Display updated student information\n",
    "print(\"\\nUpdated Student Information:\")\n",
    "print(\"Student Name:\", student1.get_name())\n",
    "print(\"Student Age:\", student1.get_age())\n",
    "print(\"Student Grades:\", student1.get_grades())\n"
   ]
  },
  {
   "cell_type": "code",
   "execution_count": 40,
   "metadata": {},
   "outputs": [
    {
     "name": "stdout",
     "output_type": "stream",
     "text": [
      "Error: Cannot divide by zero\n"
     ]
    }
   ],
   "source": [
    "#Q4\n",
    "class DivisionByZeroError(Exception):\n",
    "    pass\n",
    "\n",
    "def divide(numerator, denominator):\n",
    "    try:\n",
    "        result = numerator / denominator\n",
    "    except ZeroDivisionError:\n",
    "        raise DivisionByZeroError(\"Cannot divide by zero\")\n",
    "    else:\n",
    "        return result\n",
    "\n",
    "try:\n",
    "    result = divide(10, 0)\n",
    "    print(\"Result:\", result)\n",
    "except DivisionByZeroError as e:\n",
    "    print(f\"Error: {e}\")\n"
   ]
  },
  {
   "cell_type": "code",
   "execution_count": 26,
   "metadata": {},
   "outputs": [
    {
     "name": "stdout",
     "output_type": "stream",
     "text": [
      "Area of rectangle : 50\n",
      "Area of circle : 28.274333882308138\n",
      "Area of triangle : 12.0\n",
      "Area of square : 49\n"
     ]
    }
   ],
   "source": [
    "#Q5\n",
    "import math\n",
    "\n",
    "def calculate_shape_areas(shapes):\n",
    "    for shape in shapes:\n",
    "        if shape[\"type\"] == \"rectangle\":\n",
    "            area = shape[\"length\"] * shape[\"width\"]\n",
    "        elif shape[\"type\"] == \"circle\":\n",
    "            area = math.pi * shape[\"radius\"] * shape[\"radius\"]\n",
    "        elif shape[\"type\"] == \"triangle\":\n",
    "            area = 0.5 * shape[\"base\"] * shape[\"height\"]\n",
    "        elif shape[\"type\"] == \"square\":\n",
    "            area = shape[\"side\"] * shape[\"side\"]\n",
    "        else:\n",
    "            print(\"Invalid shape type:\", shape[\"type\"])\n",
    "            continue\n",
    "\n",
    "        print(\"Area of\", shape[\"type\"], \":\", area)\n",
    "\n",
    "shapes = [\n",
    "    {\"type\": \"rectangle\", \"length\": 10, \"width\": 5},\n",
    "    {\"type\": \"circle\", \"radius\": 3},\n",
    "    {\"type\": \"triangle\", \"base\": 6, \"height\": 4},\n",
    "    {\"type\": \"square\", \"side\": 7},\n",
    "]\n",
    "\n",
    "calculate_shape_areas(shapes)\n"
   ]
  },
  {
   "cell_type": "code",
   "execution_count": 28,
   "metadata": {},
   "outputs": [
    {
     "data": {
      "text/plain": [
       "0.5631332522180557"
      ]
     },
     "execution_count": 28,
     "metadata": {},
     "output_type": "execute_result"
    }
   ],
   "source": [
    "#Q6\n",
    "import numpy as np\n",
    "arr=np.random.rand(10)\n",
    "np.median(arr)"
   ]
  },
  {
   "cell_type": "code",
   "execution_count": 42,
   "metadata": {},
   "outputs": [
    {
     "name": "stdout",
     "output_type": "stream",
     "text": [
      "    Name    Age  Salary\n",
      "0  False  False   False\n",
      "1  False  False    True\n",
      "2  False   True   False\n",
      "3  False  False   False\n",
      "Original DataFrame:\n",
      "      Name   Age   Salary\n",
      "0    Alice  25.0  50000.0\n",
      "1      Bob  30.0      NaN\n",
      "2  Charlie   NaN  60000.0\n",
      "3    David  28.0  55000.0\n",
      "\n",
      "DataFrame after handling missing values:\n",
      "      Name   Age   Salary\n",
      "0    Alice  25.0  50000.0\n",
      "1      Bob  30.0      0.0\n",
      "2  Charlie   0.0  60000.0\n",
      "3    David  28.0  55000.0\n"
     ]
    }
   ],
   "source": [
    "#Q7\n",
    "import pandas as pd\n",
    "\n",
    "# Sample list of dictionaries\n",
    "data = [\n",
    "    {'Name': 'Alice', 'Age': 25, 'Salary': 50000},\n",
    "    {'Name': 'Bob', 'Age': 30},\n",
    "    {'Name': 'Charlie', 'Salary': 60000},\n",
    "    {'Name': 'David', 'Age': 28, 'Salary': 55000}\n",
    "]\n",
    "\n",
    "# Create a Pandas DataFrame from the list of dictionaries\n",
    "df = pd.DataFrame(data)\n",
    "print(df.isnull())\n",
    "# Display the original DataFrame\n",
    "print(\"Original DataFrame:\")\n",
    "print(df)\n",
    "\n",
    "# Handle missing values (replace NaN with a default value or drop rows/columns)\n",
    "df.fillna({'Age': 0, 'Salary': 0}, inplace=True)  # Replace NaN with 0 for Age and Salary\n",
    "\n",
    "# Display the DataFrame after handling missing values\n",
    "print(\"\\nDataFrame after handling missing values:\")\n",
    "print(df)\n"
   ]
  },
  {
   "cell_type": "code",
   "execution_count": 44,
   "metadata": {},
   "outputs": [
    {
     "data": {
      "image/png": "[encoded data removed]",
      "text/plain": [
       "<Figure size 800x600 with 2 Axes>"
      ]
     },
     "metadata": {},
     "output_type": "display_data"
    }
   ],
   "source": [
    "import seaborn as sns\n",
    "import matplotlib.pyplot as plt\n",
    "plt.figure(figsize=(8, 6))\n",
    "sns.heatmap(df[['Age', 'Salary']], annot=True, cmap='viridis', fmt='.1f', linewidths=.7)\n",
    "plt.title('Heatmap of Age and Salary')\n",
    "plt.show()"
   ]
  },
  {
   "cell_type": "code",
   "execution_count": 37,
   "metadata": {},
   "outputs": [
    {
     "name": "stdout",
     "output_type": "stream",
     "text": [
      "Original DataFrame:\n",
      "  Category  Value\n",
      "0        A     10\n",
      "1        B     20\n",
      "2        A     15\n",
      "3        B     25\n",
      "4        A     12\n",
      "<pandas.core.groupby.generic.DataFrameGroupBy object at 0x0000026C6E5F17D0>\n",
      "\n",
      "Summary Statistics:\n",
      "         Value                                                     \n",
      "         count       mean       std   min    25%   50%    75%   max\n",
      "Category                                                           \n",
      "A          3.0  12.333333  2.516611  10.0  11.00  12.0  13.50  15.0\n",
      "B          2.0  22.500000  3.535534  20.0  21.25  22.5  23.75  25.0\n"
     ]
    }
   ],
   "source": [
    "#Q9\n",
    "import pandas as pd\n",
    "\n",
    "# Sample list of dictionaries\n",
    "data = [\n",
    "    {'Category': 'A', 'Value': 10},\n",
    "    {'Category': 'B', 'Value': 20},\n",
    "    {'Category': 'A', 'Value': 15},\n",
    "    {'Category': 'B', 'Value': 25},\n",
    "    {'Category': 'A', 'Value': 12}\n",
    "]\n",
    "\n",
    "# Create a Pandas DataFrame from the list of dictionaries\n",
    "df = pd.DataFrame(data)\n",
    "\n",
    "# Display the original DataFrame\n",
    "print(\"Original DataFrame:\")\n",
    "print(df)\n",
    "\n",
    "# Group the DataFrame by the 'Category' column\n",
    "grouped_df = df.groupby('Category')\n",
    "print(grouped_df)\n",
    "\n",
    "# Calculate summary statistics (mean, count, etc.) for each group\n",
    "summary_statistics = grouped_df.describe()\n",
    "\n",
    "# Display the summary statistics\n",
    "print(\"\\nSummary Statistics:\")\n",
    "print(summary_statistics)\n"
   ]
  },
  {
   "cell_type": "code",
   "execution_count": 43,
   "metadata": {},
   "outputs": [
    {
     "data": {
      "image/png": "[encoded data removed]",
      "text/plain": [
       "<Figure size 640x480 with 1 Axes>"
      ]
     },
     "metadata": {},
     "output_type": "display_data"
    }
   ],
   "source": [
    "#Q10\n",
    "import matplotlib.pyplot as plt\n",
    "\n",
    "# Sample data - Number of students in each grade level\n",
    "grades = ['Grade 9', 'Grade 10', 'Grade 11', 'Grade 12']\n",
    "num_students = [150, 180, 200, 170]\n",
    "\n",
    "# Create a bar chart\n",
    "plt.bar(grades, num_students, color='skyblue')\n",
    "\n",
    "# Add labels and title\n",
    "plt.xlabel('Grade Level')\n",
    "plt.ylabel('Number of Students')\n",
    "plt.title('Number of Students in Each Grade Level')\n",
    "\n",
    "# Show the bar chart\n",
    "plt.show()\n"
   ]
  }
 ],
 "metadata": {
  "kernelspec": {
   "display_name": "base",
   "language": "python",
   "name": "python3"
  },
  "language_info": {
   "codemirror_mode": {
    "name": "ipython",
    "version": 3
   },
   "file_extension": ".py",
   "mimetype": "text/x-python",
   "name": "python",
   "nbconvert_exporter": "python",
   "pygments_lexer": "ipython3",
   "version": "3.11.4"
  }
 },
 "nbformat": 4,
 "nbformat_minor": 2
}
