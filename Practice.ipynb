{
 "cells": [
  {
   "cell_type": "code",
   "execution_count": 93,
   "metadata": {},
   "outputs": [
    {
     "name": "stdout",
     "output_type": "stream",
     "text": [
      "27\n"
     ]
    }
   ],
   "source": [
    "num=int(input(\"take any number\"))\n",
    "num1=int(input(\"take any number\"))\n",
    "data=num1**num\n",
    "print(data)"
   ]
  },
  {
   "cell_type": "code",
   "execution_count": 94,
   "metadata": {},
   "outputs": [
    {
     "name": "stdout",
     "output_type": "stream",
     "text": [
      "12\n",
      "13\n",
      "14\n",
      "15\n",
      "7\n",
      "8\n"
     ]
    }
   ],
   "source": [
    "lis=[12,13,14,15,7,8]\n",
    "for i in lis:\n",
    "    print(i)"
   ]
  },
  {
   "cell_type": "code",
   "execution_count": 95,
   "metadata": {},
   "outputs": [
    {
     "name": "stdout",
     "output_type": "stream",
     "text": [
      "biku\n"
     ]
    }
   ],
   "source": [
    "list=[\"Akash\",\"biku\"]\n",
    "print(list[1])"
   ]
  },
  {
   "cell_type": "code",
   "execution_count": 96,
   "metadata": {},
   "outputs": [
    {
     "name": "stdout",
     "output_type": "stream",
     "text": [
      "['Akash', 'biku', [12, 13, 14, 15, 7, 8]]\n",
      "[[12, 13, 14, 15, 7, 8], 'Akash', 'biku', [12, 13, 14, 15, 7, 8]]\n"
     ]
    }
   ],
   "source": [
    "list.append(lis)\n",
    "print(list)\n",
    "list.insert(0,lis)\n",
    "print(list)"
   ]
  },
  {
   "cell_type": "code",
   "execution_count": 97,
   "metadata": {},
   "outputs": [
    {
     "name": "stdout",
     "output_type": "stream",
     "text": [
      "[8, 7, 15, 14, 13, 12]\n"
     ]
    }
   ],
   "source": [
    "lis.reverse()\n",
    "print(lis)"
   ]
  },
  {
   "cell_type": "code",
   "execution_count": 98,
   "metadata": {},
   "outputs": [
    {
     "data": {
      "text/plain": [
       "[8, 7, 15, 14, 13, 12]"
      ]
     },
     "execution_count": 98,
     "metadata": {},
     "output_type": "execute_result"
    }
   ],
   "source": [
    "lis[:]"
   ]
  },
  {
   "cell_type": "code",
   "execution_count": 99,
   "metadata": {},
   "outputs": [
    {
     "name": "stdout",
     "output_type": "stream",
     "text": [
      "[8, 7, 15, 14, 13, 12]\n"
     ]
    }
   ],
   "source": [
    "lis1 = [2,6,4,10,12]\n",
    "lis1 = [x for x in lis if x > 5]\n",
    "print(lis1)\n"
   ]
  },
  {
   "cell_type": "code",
   "execution_count": 100,
   "metadata": {},
   "outputs": [
    {
     "name": "stdout",
     "output_type": "stream",
     "text": [
      "[2, 4, 0, 0, 0]\n"
     ]
    }
   ],
   "source": [
    "l=[2,4,6,7,10]\n",
    "l=[0 if x>5 else x for x in l ]\n",
    "print(l)"
   ]
  },
  {
   "cell_type": "code",
   "execution_count": 101,
   "metadata": {},
   "outputs": [
    {
     "name": "stdout",
     "output_type": "stream",
     "text": [
      "6\n",
      "1.2\n"
     ]
    }
   ],
   "source": [
    "a=0\n",
    "for i in l:\n",
    "    a=a+i\n",
    "print(a)     \n",
    "print(a/len(l))   "
   ]
  },
  {
   "cell_type": "code",
   "execution_count": 102,
   "metadata": {},
   "outputs": [
    {
     "name": "stdout",
     "output_type": "stream",
     "text": [
      "i am akash pradhan\n"
     ]
    }
   ],
   "source": [
    "string1=\"i am akash\"\n",
    "#print(string1)\n",
    "string1=\"i am akash pradhan\"\n",
    "print(string1)"
   ]
  },
  {
   "cell_type": "code",
   "execution_count": 103,
   "metadata": {},
   "outputs": [
    {
     "name": "stdout",
     "output_type": "stream",
     "text": [
      "i amkash pradhan\n"
     ]
    }
   ],
   "source": [
    "string1=string1[:4]+string1[6:]\n",
    "print(string1)"
   ]
  },
  {
   "cell_type": "code",
   "execution_count": 104,
   "metadata": {},
   "outputs": [
    {
     "name": "stdout",
     "output_type": "stream",
     "text": [
      "{34, 19, 'Akash', 10, 30}\n",
      "{'akash', 10, 'biky', 12}\n"
     ]
    }
   ],
   "source": [
    "#SET\n",
    "s=set([10,19,\"Akash\"])\n",
    "s1={\"akash\",10,12,\"biky\"}\n",
    "s.add(34)\n",
    "s.update({19,30})\n",
    "print(s)\n",
    "print(s1)"
   ]
  },
  {
   "cell_type": "code",
   "execution_count": 105,
   "metadata": {},
   "outputs": [
    {
     "data": {
      "text/plain": [
       "{10, 19, 30, 'Akash'}"
      ]
     },
     "execution_count": 105,
     "metadata": {},
     "output_type": "execute_result"
    }
   ],
   "source": [
    "s.remove(34)\n",
    "s"
   ]
  },
  {
   "cell_type": "code",
   "execution_count": 106,
   "metadata": {},
   "outputs": [
    {
     "name": "stdout",
     "output_type": "stream",
     "text": [
      "{1: 'Geeks', 2: 'For', 3: 'akash'}\n"
     ]
    }
   ],
   "source": [
    "#dictionary\n",
    "dict1 = {1: 'Geeks', 2: 'For',3: \"akash\"}\n",
    "print(dict1)\n"
   ]
  },
  {
   "cell_type": "code",
   "execution_count": 107,
   "metadata": {},
   "outputs": [
    {
     "data": {
      "text/plain": [
       "dict_values(['Geeks', 'For', 'akash'])"
      ]
     },
     "execution_count": 107,
     "metadata": {},
     "output_type": "execute_result"
    }
   ],
   "source": [
    "dict1.values()"
   ]
  },
  {
   "cell_type": "code",
   "execution_count": 110,
   "metadata": {},
   "outputs": [
    {
     "ename": "TypeError",
     "evalue": "'dict' object is not callable",
     "output_type": "error",
     "traceback": [
      "\u001b[1;31m---------------------------------------------------------------------------\u001b[0m",
      "\u001b[1;31mTypeError\u001b[0m                                 Traceback (most recent call last)",
      "\u001b[1;32mc:\\Users\\pradh\\OneDrive\\Desktop\\Python\\Practice.ipynb Cell 16\u001b[0m line \u001b[0;36m4\n\u001b[0;32m      <a href='vscode-notebook-cell:/c%3A/Users/pradh/OneDrive/Desktop/Python/Practice.ipynb#X24sZmlsZQ%3D%3D?line=0'>1</a>\u001b[0m dict2 \u001b[39m=\u001b[39m {\u001b[39m'\u001b[39m\u001b[39mbanana\u001b[39m\u001b[39m'\u001b[39m: \u001b[39m3\u001b[39m, \u001b[39m'\u001b[39m\u001b[39mapple\u001b[39m\u001b[39m'\u001b[39m: \u001b[39m1\u001b[39m, \u001b[39m'\u001b[39m\u001b[39morange\u001b[39m\u001b[39m'\u001b[39m: \u001b[39m2\u001b[39m, \u001b[39m'\u001b[39m\u001b[39mgrape\u001b[39m\u001b[39m'\u001b[39m: \u001b[39m4\u001b[39m}\n\u001b[0;32m      <a href='vscode-notebook-cell:/c%3A/Users/pradh/OneDrive/Desktop/Python/Practice.ipynb#X24sZmlsZQ%3D%3D?line=2'>3</a>\u001b[0m \u001b[39m# Sort the dictionary by keys\u001b[39;00m\n\u001b[1;32m----> <a href='vscode-notebook-cell:/c%3A/Users/pradh/OneDrive/Desktop/Python/Practice.ipynb#X24sZmlsZQ%3D%3D?line=3'>4</a>\u001b[0m sorted_dict \u001b[39m=\u001b[39m \u001b[39mdict\u001b[39;49m(\u001b[39msorted\u001b[39;49m(dict2\u001b[39m.\u001b[39;49mitems()))\n\u001b[0;32m      <a href='vscode-notebook-cell:/c%3A/Users/pradh/OneDrive/Desktop/Python/Practice.ipynb#X24sZmlsZQ%3D%3D?line=5'>6</a>\u001b[0m \u001b[39mprint\u001b[39m(sorted_dict)\n",
      "\u001b[1;31mTypeError\u001b[0m: 'dict' object is not callable"
     ]
    }
   ],
   "source": [
    "dict2 = {'banana': 3, 'apple': 1, 'orange': 2, 'grape': 4}\n",
    "\n",
    "# Sort the dictionary by keys\n",
    "sorted_dict = dict(sorted(dict2.items()))\n",
    "\n",
    "print(sorted_dict)\n"
   ]
  },
  {
   "cell_type": "code",
   "execution_count": 111,
   "metadata": {},
   "outputs": [
    {
     "name": "stdout",
     "output_type": "stream",
     "text": [
      "[12, 23, 34, 45]\n",
      "[23, 34, 45]\n"
     ]
    }
   ],
   "source": [
    "l1=[12,23]\n",
    "l2=[34,45]\n",
    "l3=l1+l2\n",
    "print(l3)\n",
    "l3=[0 if x<20 else x for x in l3 if x>20]\n",
    "print(l3)"
   ]
  }
 ],
 "metadata": {
  "kernelspec": {
   "display_name": "base",
   "language": "python",
   "name": "python3"
  },
  "language_info": {
   "codemirror_mode": {
    "name": "ipython",
    "version": 3
   },
   "file_extension": ".py",
   "mimetype": "text/x-python",
   "name": "python",
   "nbconvert_exporter": "python",
   "pygments_lexer": "ipython3",
   "version": "3.11.4"
  }
 },
 "nbformat": 4,
 "nbformat_minor": 2
}
